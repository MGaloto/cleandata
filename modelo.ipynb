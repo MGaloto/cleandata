{
 "cells": [
  {
   "cell_type": "markdown",
   "id": "1dc2a341",
   "metadata": {},
   "source": [
    "<html>\n",
    "<h1  align=\"center\"> Desafío: Modelo de Prediccion de Precio de Propiedades\n",
    "    <hr>\n",
    "    <img align=\"center;\" style=\"background-color:\n",
    "#253bff\"; color:\"#ff5d25\";\" src=\"https://www.iberdrola.com/documents/20125/40921/machine_learning_746x419.jpg/15ff7571-4cfc-d9f0-5ef4-9c2e9306ad88?t=1627968463400\"; width=\"30%\"; height=\"20%\">\n",
    "\n",
    "</h1>\n",
    "</html>\n",
    "\n"
   ]
  },
  {
   "cell_type": "markdown",
   "id": "857b45df",
   "metadata": {},
   "source": [
    "<h1 align=\"center\">Índice del análisis</h1>"
   ]
  },
  {
   "cell_type": "markdown",
   "id": "b629f453",
   "metadata": {},
   "source": [
    "- [**Data Wrangling**](#Data-Wrangling)\n",
    "- [**Visualizaciones Post Limpieza**](#Visualizaciones-Post-Limpieza)"
   ]
  },
  {
   "cell_type": "markdown",
   "id": "a053ea31",
   "metadata": {},
   "source": [
    "<html><h1 align=\"center\", style=\"background: #414ce8; color:white\">Data Wrangling</h1></html>"
   ]
  },
  {
   "cell_type": "markdown",
   "id": "9fa9bc0f",
   "metadata": {},
   "source": [
    "[**Volver al Inicio**](#Índice-del-análisis) "
   ]
  },
  {
   "cell_type": "code",
   "execution_count": null,
   "id": "e1f322a6",
   "metadata": {},
   "outputs": [],
   "source": [
    "import pandas as pd\n",
    "import numpy as np\n",
    "import plotly.io as pio\n",
    "import plotly.express as px\n",
    "import plotly.figure_factory as ff\n",
    "import matplotlib.pyplot as plt\n",
    "import matplotlib.patches\n",
    "import warnings\n",
    "\n",
    "\n",
    "\n",
    "warnings.filterwarnings('ignore')\n",
    "\n",
    "\n",
    "df_caba = pd.read_csv('df_caba.csv', index_col = 'index')"
   ]
  },
  {
   "cell_type": "code",
   "execution_count": null,
   "id": "247aa983",
   "metadata": {},
   "outputs": [],
   "source": [
    "df_caba.head(3)"
   ]
  },
  {
   "cell_type": "code",
   "execution_count": null,
   "id": "1a63af9a",
   "metadata": {},
   "outputs": [],
   "source": [
    "df_caba = df_caba.loc[df_caba['place_name'] != 'Capital Federal']\n",
    "df_caba.reset_index(drop=True, inplace=True)"
   ]
  },
  {
   "cell_type": "code",
   "execution_count": null,
   "id": "2fee6c9f",
   "metadata": {},
   "outputs": [],
   "source": [
    "df_caba.shape"
   ]
  },
  {
   "cell_type": "code",
   "execution_count": null,
   "id": "bff82c7b",
   "metadata": {},
   "outputs": [],
   "source": [
    "df_caba.head(5)"
   ]
  },
  {
   "cell_type": "code",
   "execution_count": null,
   "id": "11f337bf",
   "metadata": {},
   "outputs": [],
   "source": [
    "round(df_caba.isnull().sum() / df_caba.shape[0],2).sort_values(ascending = False)"
   ]
  },
  {
   "cell_type": "code",
   "execution_count": null,
   "id": "eb762b0c",
   "metadata": {},
   "outputs": [],
   "source": [
    "def getPlotGroup(data, number_color):\n",
    "    x = data.groupby('place_name')['price_usd_per_m2'].std().sort_values(ascending = False).index\n",
    "    y = data.groupby('place_name')['price_usd_per_m2'].std().sort_values(ascending = False).values\n",
    "   \n",
    "    df = pd.DataFrame({'x': x, 'y': y})\n",
    "    fig = px.bar(df, x=x, y=y,\n",
    "                title= 'Desvio Standard del Precio en USD por m2 ',\n",
    "                color_discrete_sequence=[px.colors.qualitative.Alphabet[number_color]],\n",
    "                width=800, height=600,\n",
    "                template=\"simple_white\"\n",
    "                )\n",
    "    return fig.show()\n",
    "    \n",
    "\n",
    "getPlotGroup(df_caba,  7)"
   ]
  },
  {
   "cell_type": "markdown",
   "id": "1600e8b9",
   "metadata": {},
   "source": [
    "Grafico en 3D donde relacionamos las siguientes variables por zona: price_usd_per_m2, surface_covered_in_m2 y ambientes."
   ]
  },
  {
   "cell_type": "code",
   "execution_count": null,
   "id": "48841095",
   "metadata": {},
   "outputs": [],
   "source": [
    "fig = px.scatter_3d(df_caba, \n",
    "                    title=\"3D Plot\",\n",
    "                    x='price_usd_per_m2', \n",
    "                    y='surface_covered_in_m2', \n",
    "                    z='ambientes', \n",
    "                    color='place_name')\n",
    "fig.update_layout(template=\"plotly_dark\",\n",
    "                  width=1000,\n",
    "                  height=750)\n",
    "\n",
    "fig.show()"
   ]
  },
  {
   "cell_type": "markdown",
   "id": "5f26d499",
   "metadata": {},
   "source": [
    "Grafico en 3D donde relacionamos las siguientes variables por tipo de propiedad: price_usd_per_m2, surface_covered_in_m2 y ambientes."
   ]
  },
  {
   "cell_type": "code",
   "execution_count": null,
   "id": "1394c15b",
   "metadata": {},
   "outputs": [],
   "source": [
    "fig = px.scatter_3d(df_caba, \n",
    "                    title=\"3D Plot\",\n",
    "                    x='price_usd_per_m2', \n",
    "                    y='surface_covered_in_m2', \n",
    "                    z='ambientes', \n",
    "                    color='property_type')\n",
    "fig.update_layout(template=\"plotly_dark\",\n",
    "                  width=1000,\n",
    "                  height=750)\n",
    "\n",
    "fig.show()"
   ]
  },
  {
   "cell_type": "code",
   "execution_count": null,
   "id": "1860f371",
   "metadata": {},
   "outputs": [],
   "source": [
    "df_caba.columns"
   ]
  },
  {
   "cell_type": "markdown",
   "id": "303f0071",
   "metadata": {},
   "source": [
    "<h3> Limpieza de Datos </h3>"
   ]
  },
  {
   "cell_type": "code",
   "execution_count": null,
   "id": "e576cbb0",
   "metadata": {},
   "outputs": [],
   "source": [
    "df_caba_model = df_caba[['price_usd_per_m2','property_type','place_name', 'price', 'price_aprox_usd', 'surface_total_in_m2', 'surface_covered_in_m2','rooms', 'ambientes', 'parrilla']]\n",
    "df_caba_model.head(5)"
   ]
  },
  {
   "cell_type": "code",
   "execution_count": null,
   "id": "03d89833",
   "metadata": {},
   "outputs": [],
   "source": [
    "df_caba_filter = df_caba_model.loc[df_caba_model['place_name'].isin(['Boedo', 'Puerto Madero', 'Palermo', 'Saavedra'])]\n",
    "levels, categories = pd.factorize(df_caba_filter['place_name'])\n",
    "colors = [plt.cm.tab10(i) for i in levels] \n",
    "handles = [matplotlib.patches.Patch(color=plt.cm.tab10(i), label=c) for i, c in enumerate(categories)]\n",
    "\n",
    "\n",
    "plt.scatter(df_caba_filter['surface_covered_in_m2'],df_caba_filter['price_usd_per_m2'], s=30,\n",
    "            alpha=0.2, c=colors)\n",
    "plt.xlabel('surface_covered_in_m2')\n",
    "plt.ylabel('price_usd_per_m2')\n",
    "plt.legend(handles=handles, title='place_name')\n",
    "plt.rcParams[\"figure.figsize\"] = (10,8)\n",
    "plt.show()\n"
   ]
  },
  {
   "cell_type": "code",
   "execution_count": null,
   "id": "1d98723a",
   "metadata": {},
   "outputs": [],
   "source": [
    "df_caba_filter = df_caba_model.loc[df_caba_model['place_name'].isin(['Boedo'])]\n",
    "levels, categories = pd.factorize(df_caba_filter['property_type'])\n",
    "colors = [plt.cm.tab10(i) for i in levels] \n",
    "handles = [matplotlib.patches.Patch(color=plt.cm.tab10(i), label=c) for i, c in enumerate(categories)]\n",
    "\n",
    "\n",
    "plt.scatter(np.log(df_caba_filter['surface_covered_in_m2']),np.log(df_caba_filter['price_usd_per_m2']), s=30,\n",
    "            alpha=0.3, c=colors)\n",
    "plt.xlabel('surface_covered_in_m2')\n",
    "plt.ylabel('price_usd_per_m2')\n",
    "plt.legend(handles=handles, title='property_type')\n",
    "plt.rcParams[\"figure.figsize\"] = (10,8)\n",
    "plt.show()"
   ]
  },
  {
   "cell_type": "markdown",
   "id": "5fb75824",
   "metadata": {},
   "source": [
    "Completamos la columna ambientes combinandola con rooms:"
   ]
  },
  {
   "cell_type": "code",
   "execution_count": null,
   "id": "3d4e57db",
   "metadata": {},
   "outputs": [],
   "source": [
    "df_caba_model['ambientes'] = df_caba_model.apply(lambda x: x['ambientes'] if x['ambientes'] > 0 else x['rooms'], axis = 1)"
   ]
  },
  {
   "cell_type": "code",
   "execution_count": null,
   "id": "44f29399",
   "metadata": {},
   "outputs": [],
   "source": [
    "df_caba_model.drop(columns=['rooms','price_aprox_usd','price'], inplace = True)"
   ]
  },
  {
   "cell_type": "code",
   "execution_count": null,
   "id": "38e9b76a",
   "metadata": {},
   "outputs": [],
   "source": [
    "round(df_caba_model.isnull().sum() / df_caba_model.shape[0],2).sort_values(ascending = False)"
   ]
  },
  {
   "cell_type": "code",
   "execution_count": null,
   "id": "63199182",
   "metadata": {},
   "outputs": [],
   "source": [
    "print('Luego de los drop queda un ',(df_caba_model.dropna().shape[0] / df_caba_model.shape[0]) * 100, '% del Data Set original')"
   ]
  },
  {
   "cell_type": "code",
   "execution_count": null,
   "id": "5b8fafe4",
   "metadata": {},
   "outputs": [],
   "source": [
    "df_caba_model.loc[df_caba['place_name'].isin(['Boedo'])].price_usd_per_m2.value_counts().sort_index(ascending = False).index"
   ]
  },
  {
   "cell_type": "markdown",
   "id": "789b1619",
   "metadata": {},
   "source": [
    "Podemos observar valores en precio en dolares por metro cuadrado y superficie cubierta fuera de lo normal en Boedo."
   ]
  },
  {
   "cell_type": "code",
   "execution_count": null,
   "id": "0ea5c707",
   "metadata": {},
   "outputs": [],
   "source": [
    "\n",
    "x1 = np.array(df_caba_model.loc[df_caba_model['place_name'].isin(['Boedo'])].price_usd_per_m2.value_counts().sort_index(ascending = False).index)\n",
    "\n",
    "hist_data = [x1]\n",
    "group_labels = ['price_usd_per_m2'] \n",
    "\n",
    "fig = ff.create_distplot(hist_data, group_labels, bin_size=400)\n",
    "fig.show()"
   ]
  },
  {
   "cell_type": "code",
   "execution_count": null,
   "id": "1bbaae11",
   "metadata": {},
   "outputs": [],
   "source": [
    "x1 = np.array(df_caba_model.loc[df_caba_model['place_name'].isin(['Boedo'])].surface_covered_in_m2.value_counts().sort_index(ascending = False).index)\n",
    "\n",
    "hist_data = [x1]\n",
    "group_labels = ['surface_covered_in_m2'] \n",
    "\n",
    "fig = ff.create_distplot(hist_data, group_labels, bin_size=5)\n",
    "fig.show()"
   ]
  },
  {
   "cell_type": "markdown",
   "id": "adbbf36d",
   "metadata": {},
   "source": [
    "Limpiamos esos datos del Data Set"
   ]
  },
  {
   "cell_type": "code",
   "execution_count": null,
   "id": "808e1855",
   "metadata": {},
   "outputs": [],
   "source": [
    "index_drop_surface = df_caba_model.loc[(df_caba_model['place_name'].isin(['Boedo'])) & (df_caba_model['surface_covered_in_m2'].isin([324,350,566,600,800]))].index\n",
    "index_drop_price = df_caba_model.loc[(df_caba_model['place_name'].isin(['Boedo'])) & (df_caba_model['price_usd_per_m2'] > 8000)].index"
   ]
  },
  {
   "cell_type": "markdown",
   "id": "3a9a85e8",
   "metadata": {},
   "source": [
    "df_caba_model.drop(index_drop_surface, inplace=True)\n",
    "df_caba_model.drop(index_drop_price, inplace=True)"
   ]
  },
  {
   "cell_type": "code",
   "execution_count": null,
   "id": "139f603f",
   "metadata": {},
   "outputs": [],
   "source": [
    "df_caba_model.reset_index(drop=True, inplace=True)"
   ]
  },
  {
   "cell_type": "markdown",
   "id": "dd893e18",
   "metadata": {},
   "source": [
    "Scatter para Boedo:"
   ]
  },
  {
   "cell_type": "code",
   "execution_count": null,
   "id": "f3a6fad6",
   "metadata": {},
   "outputs": [],
   "source": [
    "df_caba_filter = df_caba_model.loc[df_caba_model['place_name'].isin(['Boedo'])]\n",
    "levels, categories = pd.factorize(df_caba_filter['property_type'])\n",
    "colors = [plt.cm.tab10(i) for i in levels] \n",
    "handles = [matplotlib.patches.Patch(color=plt.cm.tab10(i), label=c) for i, c in enumerate(categories)]\n",
    "\n",
    "\n",
    "plt.scatter(df_caba_filter['surface_total_in_m2'],df_caba_filter['price_usd_per_m2'], s=30,\n",
    "            alpha=0.3, c=colors)\n",
    "plt.xlabel('surface_total_in_m2')\n",
    "plt.ylabel('price_usd_per_m2')\n",
    "plt.legend(handles=handles, title='property_type')\n",
    "plt.rcParams[\"figure.figsize\"] = (10,8)\n",
    "plt.show()"
   ]
  },
  {
   "cell_type": "markdown",
   "id": "e7735539",
   "metadata": {},
   "source": [
    "Scatter previo a la limpieza de valores atipicos para superficie cubierta:"
   ]
  },
  {
   "cell_type": "code",
   "execution_count": null,
   "id": "ea2d0402",
   "metadata": {},
   "outputs": [],
   "source": [
    "fig = px.scatter(df_caba_model, x=\"surface_total_in_m2\", y=\"price_usd_per_m2\", color=\"property_type\", hover_data=['property_type'])\n",
    "fig.show()"
   ]
  },
  {
   "cell_type": "code",
   "execution_count": null,
   "id": "676f78f9",
   "metadata": {},
   "outputs": [],
   "source": [
    "index_drop_surface_total = df_caba_model.loc[(df_caba_model['surface_total_in_m2'] > 2000)].index\n",
    "df_caba_model.drop(index_drop_surface_total, inplace=True)\n",
    "df_caba_model.reset_index(drop=True, inplace=True)"
   ]
  },
  {
   "cell_type": "markdown",
   "id": "abca355d",
   "metadata": {},
   "source": [
    "<html><h1 align=\"center\", style=\"background: #414ce8; color:white\">Visualizaciones Post Limpieza</h1></html>"
   ]
  },
  {
   "cell_type": "markdown",
   "id": "9df891d7",
   "metadata": {},
   "source": [
    "[**Volver al Inicio**](#Índice-del-análisis) "
   ]
  },
  {
   "cell_type": "code",
   "execution_count": null,
   "id": "f9eeab39",
   "metadata": {},
   "outputs": [],
   "source": [
    "getPlotGroup(df_caba_model,  3)"
   ]
  },
  {
   "cell_type": "code",
   "execution_count": null,
   "id": "39af7704",
   "metadata": {},
   "outputs": [],
   "source": [
    "\n",
    "fig = px.scatter_3d(df_caba_model, \n",
    "                    title=\"3D Plot\",\n",
    "                    x='price_usd_per_m2', \n",
    "                    y='surface_total_in_m2', \n",
    "                    z='place_name', \n",
    "                    color='property_type')\n",
    "fig.update_layout(template=\"plotly_dark\",\n",
    "                  width=1000,\n",
    "                  height=750)\n",
    "\n",
    "fig.show()"
   ]
  },
  {
   "cell_type": "code",
   "execution_count": null,
   "id": "c7c88dcb",
   "metadata": {},
   "outputs": [],
   "source": [
    "\n",
    "fig = px.scatter_3d(df_caba_model, \n",
    "                    title=\"3D Plot\",\n",
    "                    x='price_usd_per_m2', \n",
    "                    y='surface_total_in_m2', \n",
    "                    z='ambientes', \n",
    "                    color='place_name')\n",
    "fig.update_layout(template=\"plotly_dark\",\n",
    "                  width=1000,\n",
    "                  height=750)\n",
    "\n",
    "fig.show()"
   ]
  }
 ],
 "metadata": {
  "kernelspec": {
   "display_name": "Python 3 (ipykernel)",
   "language": "python",
   "name": "python3"
  },
  "language_info": {
   "codemirror_mode": {
    "name": "ipython",
    "version": 3
   },
   "file_extension": ".py",
   "mimetype": "text/x-python",
   "name": "python",
   "nbconvert_exporter": "python",
   "pygments_lexer": "ipython3",
   "version": "3.8.13"
  }
 },
 "nbformat": 4,
 "nbformat_minor": 5
}
